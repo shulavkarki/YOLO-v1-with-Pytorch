{
 "cells": [
  {
   "cell_type": "code",
   "execution_count": 11,
   "id": "4c96491e",
   "metadata": {},
   "outputs": [
    {
     "name": "stdout",
     "output_type": "stream",
     "text": [
      "Requirement already satisfied: Augmentor in e:\\mini\\envs\\venv\\lib\\site-packages (0.2.10)\n",
      "Requirement already satisfied: tqdm>=4.9.0 in e:\\mini\\envs\\venv\\lib\\site-packages (from Augmentor) (4.61.0)\n",
      "Requirement already satisfied: future>=0.16.0 in e:\\mini\\envs\\venv\\lib\\site-packages (from Augmentor) (0.18.2)\n",
      "Requirement already satisfied: Pillow>=5.2.0 in e:\\mini\\envs\\venv\\lib\\site-packages (from Augmentor) (8.2.0)\n",
      "Requirement already satisfied: numpy>=1.11.0 in e:\\mini\\envs\\venv\\lib\\site-packages (from Augmentor) (1.20.1)\n"
     ]
    }
   ],
   "source": [
    "!pip install Augmentor"
   ]
  },
  {
   "cell_type": "code",
   "execution_count": 31,
   "id": "34f02b75",
   "metadata": {},
   "outputs": [
    {
     "name": "stdout",
     "output_type": "stream",
     "text": [
      "Initialised with 2454 image(s) found.\n",
      "Output directory set to ./cleandata/train/Sandwich\\output."
     ]
    }
   ],
   "source": [
    "import Augmentor\n",
    "IMG_PATH = \"./cleandata/train/Sandwich\"\n",
    "p = Augmentor.Pipeline(IMG_PATH)"
   ]
  },
  {
   "cell_type": "code",
   "execution_count": 32,
   "id": "8af5f9c4",
   "metadata": {},
   "outputs": [],
   "source": [
    "#Data agumentation approaches.\n",
    "#1. Skew\n",
    "p.skew_tilt(probability=0.4)\n",
    "# p.random_distortion(probability=0.1, grid_width, grid_height, magnitude)\n",
    "#2. Rotation\n",
    "p.rotate90(probability=0.4)\n",
    "p.rotate180(probability=0.8)\n",
    "# p.rotate270(probability=0.3)\n",
    "p.rotate(probability=0.5, max_left_rotation=10, max_right_rotation=10)\n",
    "#3. Shearing\n",
    "p.shear(probability=0.2, max_shear_left=5, max_shear_right=5)\n",
    "# p.resize(probability=1, width=416, height=416)"
   ]
  },
  {
   "cell_type": "code",
   "execution_count": 33,
   "id": "1c998ed0",
   "metadata": {},
   "outputs": [
    {
     "name": "stderr",
     "output_type": "stream",
     "text": [
      "Processing <PIL.Image.Image image mode=RGB size=300x450 at 0x2838EDE6A90>: 100%|█| 3000/3000 [00:13<00:00, 216.10 Sampl\n"
     ]
    }
   ],
   "source": [
    "#get the images\n",
    "p.sample(3000)\n",
    "#images are stored in the output folder in the given image path in augmentor pipeline."
   ]
  },
  {
   "cell_type": "code",
   "execution_count": null,
   "id": "712aa569",
   "metadata": {},
   "outputs": [],
   "source": []
  }
 ],
 "metadata": {
  "kernelspec": {
   "display_name": "Python 3",
   "language": "python",
   "name": "python3"
  },
  "language_info": {
   "codemirror_mode": {
    "name": "ipython",
    "version": 3
   },
   "file_extension": ".py",
   "mimetype": "text/x-python",
   "name": "python",
   "nbconvert_exporter": "python",
   "pygments_lexer": "ipython3",
   "version": "3.9.4"
  }
 },
 "nbformat": 4,
 "nbformat_minor": 5
}
